{
 "cells": [
  {
   "cell_type": "markdown",
   "id": "136947c4-e057-4395-b873-a989c9008307",
   "metadata": {
    "editable": true,
    "slideshow": {
     "slide_type": ""
    },
    "tags": []
   },
   "source": [
    "UM MSBA - BGEN 632\n",
    "\n",
    "# Week 2 Instructor-led Lab\n",
    "\n",
    "In this assignment you will create basic code showcasing the concepts you learned about in the tutorial. \n",
    "\n",
    "**Create Code cells below this Markdown cell to complete the assignment. Write and run your code. To get full points, your submitted notebook must include saved output in addition to written code.** \n",
    "\n",
    "For this assignment, you are not required to create any Markdown cells but you are encouraged to do so to improve the aesthetics and organization of your lab submission. \n",
    "\n",
    "As stated in the syllabus, you <ins>must</ins> include information about your use of online resources to complete assignments, including chatbots like ChatGPT. You can include reference information within your notebooks and/or within separate files pushed to your repo on GitHub. Failure to disclose the use of online resources is a violation of course policy.\n",
    "\n",
    "## Assigning Values\n",
    "\n",
    "For this portion of the assignment, you will create variables in your notebook. You will assign a value to each variable. Please perform the following tasks and create each variable by assigning the following values:\n",
    "\n",
    "* my_int assign it a number between 1 and 20, inclusive.\n",
    "* long_a assign it the number 6,323,527,192.\n",
    "* float_pi assign it the number 3.14159\n",
    "* my_double assign it a fractional number with 13 decimals.\n",
    "* decimal_a assign it a fractional number with 20 decimals.\n",
    "* big_griz assign it the value G (uppercase).\n",
    "* my_hello assign it a greeting to the entire class.\n",
    "* my_goodbye assign it a farewell to your class.\n",
    "\n",
    "## Single Line Comments\n",
    "\n",
    "At the end of each variable, on the same line, place a single-line comment with a short description of each variable. For example, it would look like this:\n",
    "\n",
    "```\n",
    "new_double = 38.936921934     # A double with 9 decimal places\n",
    "```\n",
    "\n",
    "## Print Output\n",
    "\n",
    "Now that you have assigned values to your variables, let's print them. Output each variable individually.\n",
    "\n",
    "## Type Conversion\n",
    "\n",
    "The last task you have for this lab involves type conversion. Create new variables with the following types, names, and values. Use an explicit type conversion.\n",
    "\n",
    "* `int` named my_new_int with a number between 1 and 20, inclusive.\n",
    "* `float` named float_b with value 3.14159.\n",
    "  \n",
    "Output both variables. \n",
    "\n",
    "---"
   ]
  },
  {
   "cell_type": "code",
   "execution_count": 32,
   "id": "d66e4214-94a0-47c8-8db0-6d044515b322",
   "metadata": {},
   "outputs": [],
   "source": [
    "my_int = int(5)    #a number between 1  20"
   ]
  },
  {
   "cell_type": "code",
   "execution_count": 34,
   "id": "e307590d-7f4a-4451-a6ff-246d3ddf6e4d",
   "metadata": {},
   "outputs": [
    {
     "data": {
      "text/plain": [
       "5"
      ]
     },
     "execution_count": 34,
     "metadata": {},
     "output_type": "execute_result"
    }
   ],
   "source": [
    "my_int"
   ]
  },
  {
   "cell_type": "code",
   "execution_count": 37,
   "id": "7e1ebc81-567c-4a76-9b6a-5c4b7cf85168",
   "metadata": {},
   "outputs": [],
   "source": [
    "long_a = float(6323527192)    #assigned value of 6323527192"
   ]
  },
  {
   "cell_type": "code",
   "execution_count": 39,
   "id": "663fd039-3ba6-4ed7-ad3d-d0f614e7398d",
   "metadata": {},
   "outputs": [
    {
     "data": {
      "text/plain": [
       "6323527192.0"
      ]
     },
     "execution_count": 39,
     "metadata": {},
     "output_type": "execute_result"
    }
   ],
   "source": [
    "long_a"
   ]
  },
  {
   "cell_type": "code",
   "execution_count": 41,
   "id": "9e7a4742-7b6f-4ba4-a5d2-134f25f4eb27",
   "metadata": {},
   "outputs": [],
   "source": [
    "float_pi = float(3.14159)    #assigned value 3.14159"
   ]
  },
  {
   "cell_type": "code",
   "execution_count": 43,
   "id": "0452e681-a9d5-4610-9de8-7bf66896633a",
   "metadata": {},
   "outputs": [
    {
     "data": {
      "text/plain": [
       "3.14159"
      ]
     },
     "execution_count": 43,
     "metadata": {},
     "output_type": "execute_result"
    }
   ],
   "source": [
    "float_pi"
   ]
  },
  {
   "cell_type": "code",
   "execution_count": 45,
   "id": "724b5c3f-fd10-43ff-a893-30daacb8b0cf",
   "metadata": {},
   "outputs": [],
   "source": [
    "my_double = float(1.1234123412345)     #a fractional number with 13 decimals."
   ]
  },
  {
   "cell_type": "code",
   "execution_count": 47,
   "id": "a747f361-0f63-4709-a245-1bd2e3992e34",
   "metadata": {},
   "outputs": [
    {
     "data": {
      "text/plain": [
       "1.1234123412345"
      ]
     },
     "execution_count": 47,
     "metadata": {},
     "output_type": "execute_result"
    }
   ],
   "source": [
    "my_double"
   ]
  },
  {
   "cell_type": "code",
   "execution_count": 49,
   "id": "d70769c5-c8c1-47e2-8999-b065ab5bb5c1",
   "metadata": {},
   "outputs": [],
   "source": [
    "decimal_a = float(22.14725361472545612789)    #a fractional number with 20 decimals."
   ]
  },
  {
   "cell_type": "code",
   "execution_count": 51,
   "id": "cd92647d-1e5c-4347-950c-03d9a0e9335d",
   "metadata": {},
   "outputs": [
    {
     "data": {
      "text/plain": [
       "22.147253614725457"
      ]
     },
     "execution_count": 51,
     "metadata": {},
     "output_type": "execute_result"
    }
   ],
   "source": [
    "decimal_a"
   ]
  },
  {
   "cell_type": "code",
   "execution_count": 58,
   "id": "bf32f89a-4106-414d-a1f3-f32f1dba4fe4",
   "metadata": {},
   "outputs": [],
   "source": [
    "big_griz = \"G\"     #value G (uppercase)."
   ]
  },
  {
   "cell_type": "code",
   "execution_count": 60,
   "id": "dd99b799-bc2e-4584-9d3c-1451218bbd95",
   "metadata": {},
   "outputs": [
    {
     "data": {
      "text/plain": [
       "'G'"
      ]
     },
     "execution_count": 60,
     "metadata": {},
     "output_type": "execute_result"
    }
   ],
   "source": [
    "big_griz"
   ]
  },
  {
   "cell_type": "code",
   "execution_count": 62,
   "id": "f05c4d8a-aa90-466e-993e-14d96a2513c9",
   "metadata": {},
   "outputs": [],
   "source": [
    "my_hello = \"Hello fellow classmates!!\"    #a greeting to the entire class."
   ]
  },
  {
   "cell_type": "code",
   "execution_count": 64,
   "id": "89b6eadb-adc5-48c6-b988-9c5b50f10b29",
   "metadata": {},
   "outputs": [
    {
     "data": {
      "text/plain": [
       "'Hello fellow classmates!!'"
      ]
     },
     "execution_count": 64,
     "metadata": {},
     "output_type": "execute_result"
    }
   ],
   "source": [
    "my_hello"
   ]
  },
  {
   "cell_type": "code",
   "execution_count": 67,
   "id": "c338cc89-b927-40a1-bf73-b08b85fa082e",
   "metadata": {},
   "outputs": [],
   "source": [
    "my_goodbye = \"Great to see you all, until next time!\"    #a farewell to your class."
   ]
  },
  {
   "cell_type": "code",
   "execution_count": 69,
   "id": "37d03f3f-b5c9-4ec3-be12-cfb935996cba",
   "metadata": {},
   "outputs": [
    {
     "data": {
      "text/plain": [
       "'Great to see you all, until next time!'"
      ]
     },
     "execution_count": 69,
     "metadata": {},
     "output_type": "execute_result"
    }
   ],
   "source": [
    "my_goodbye"
   ]
  },
  {
   "cell_type": "code",
   "execution_count": 71,
   "id": "3ec6a4bd-92fb-4e79-84d9-61d1ee283fd0",
   "metadata": {},
   "outputs": [
    {
     "data": {
      "text/plain": [
       "7"
      ]
     },
     "execution_count": 71,
     "metadata": {},
     "output_type": "execute_result"
    }
   ],
   "source": [
    "my_new_int = int(7)    #converted to integer value\n",
    "my_new_int"
   ]
  },
  {
   "cell_type": "code",
   "execution_count": 73,
   "id": "4813e614-dad4-4db3-97f5-83d06a07d006",
   "metadata": {},
   "outputs": [
    {
     "data": {
      "text/plain": [
       "3.14159"
      ]
     },
     "execution_count": 73,
     "metadata": {},
     "output_type": "execute_result"
    }
   ],
   "source": [
    "float_b = float(3.14159)    #converted float value\n",
    "float_b"
   ]
  },
  {
   "cell_type": "code",
   "execution_count": null,
   "id": "12380f28-6c4a-4efc-ab51-ce852944d7f7",
   "metadata": {},
   "outputs": [],
   "source": []
  }
 ],
 "metadata": {
  "kernelspec": {
   "display_name": "Python [conda env:base] *",
   "language": "python",
   "name": "conda-base-py"
  },
  "language_info": {
   "codemirror_mode": {
    "name": "ipython",
    "version": 3
   },
   "file_extension": ".py",
   "mimetype": "text/x-python",
   "name": "python",
   "nbconvert_exporter": "python",
   "pygments_lexer": "ipython3",
   "version": "3.12.7"
  }
 },
 "nbformat": 4,
 "nbformat_minor": 5
}
