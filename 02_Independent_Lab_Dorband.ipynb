{
 "cells": [
  {
   "cell_type": "code",
   "execution_count": null,
   "id": "29ffb6c4-6307-41e5-8e18-2cfe7f601825",
   "metadata": {},
   "outputs": [],
   "source": [
    "UM MSBA - BGEN 632\n",
    "Week 2 Independent Lab\n",
    "Jessica Dorband\n",
    "March 5th, 2025\n",
    "\n",
    "Welcome to my Celsius to Fahrenheit converter!\n",
    "\n",
    "| C | F | Description |\n",
    "|:---:|:---:|:---|\n",
    "| -40 | -40 | Temperature where both are equal |\n",
    "| -18 | 0 | 0-degrees F |\n",
    "| 0 | 32 | Freezing, or 0-degrees C |\n",
    "| 37 | 98.6 | Body temperature |\n",
    "| 100 | 212 | Boiling point of water at sea level |\n"
   ]
  },
  {
   "cell_type": "code",
   "execution_count": 43,
   "id": "fddbfc02-91e8-4be1-af57-967c76a0dfc2",
   "metadata": {},
   "outputs": [
    {
     "name": "stdin",
     "output_type": "stream",
     "text": [
      "Please provide a value, in Celsius, to convert to Celsius:\n",
      " 37\n"
     ]
    },
    {
     "name": "stdout",
     "output_type": "stream",
     "text": [
      "37.0 degrees Celsius is 98.60000000000001 degrees Fahrenheit!\n",
      "<class 'int'>\n"
     ]
    }
   ],
   "source": [
    "#create variables\n",
    "celsius = 0    #to hold our C value\n",
    "fahrenheit = 0    #to hold our f value\n",
    "\n",
    "celsius = float(input(\"Please provide a value, in Celsius, to convert to Celsius:\\n\"))    #to get value from user\n",
    "\n",
    "fahrenheit = (9 / 5) * celsius + 32   #convert text of f to c\n",
    "\n",
    "print(f\"{celsius} degrees Celsius is {fahrenheit} degrees Fahrenheit!\")    #output results to user\n",
    "\n",
    "int_fahrenheit = int(fahrenheit)    #convert to int variable \n",
    "print(type(int_fahrenheit))    #print and check my type of variable\n"
   ]
  },
  {
   "cell_type": "markdown",
   "id": "8a08fc5b-c676-45ab-aada-969411ce2d3d",
   "metadata": {},
   "source": [
    "Thank you for using my Celsius to Fahrenheit converter! Hope it helps! "
   ]
  }
 ],
 "metadata": {
  "kernelspec": {
   "display_name": "Python [conda env:base] *",
   "language": "python",
   "name": "conda-base-py"
  },
  "language_info": {
   "codemirror_mode": {
    "name": "ipython",
    "version": 3
   },
   "file_extension": ".py",
   "mimetype": "text/x-python",
   "name": "python",
   "nbconvert_exporter": "python",
   "pygments_lexer": "ipython3",
   "version": "3.12.7"
  }
 },
 "nbformat": 4,
 "nbformat_minor": 5
}
